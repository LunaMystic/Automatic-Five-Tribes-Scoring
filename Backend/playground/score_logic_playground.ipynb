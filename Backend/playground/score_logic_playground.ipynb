{
 "cells": [
  {
   "cell_type": "code",
   "execution_count": 1,
   "metadata": {
    "collapsed": true,
    "pycharm": {
     "name": "#%%\n"
    }
   },
   "outputs": [],
   "source": [
    "# Used for some initial testing/starter code"
   ]
  },
  {
   "cell_type": "code",
   "execution_count": 2,
   "outputs": [],
   "source": [
    "# Resources contains board game component assets"
   ],
   "metadata": {
    "collapsed": false,
    "pycharm": {
     "name": "#%%\n"
    }
   }
  },
  {
   "cell_type": "code",
   "execution_count": 3,
   "outputs": [],
   "source": [
    "from enum import Enum, auto"
   ],
   "metadata": {
    "collapsed": false,
    "pycharm": {
     "name": "#%%\n"
    }
   }
  },
  {
   "cell_type": "code",
   "execution_count": 4,
   "outputs": [],
   "source": [
    "# There are four player colors in game:\n",
    "class PlayerColor(Enum):\n",
    "    GREEN  = auto()\n",
    "    BLACK  = auto()\n",
    "    RED    = auto()\n",
    "    PURPLE = auto()"
   ],
   "metadata": {
    "collapsed": false,
    "pycharm": {
     "name": "#%%\n"
    }
   }
  },
  {
   "cell_type": "code",
   "execution_count": 5,
   "outputs": [],
   "source": [
    "# There are 30 tiles in Five Tribes, which can be categorized as:\n",
    "# 1 * 15 points (dijinn)\n",
    "# 1 * 12 points (dijinn)\n",
    "# 1 * 10 points (dijinn)\n",
    "# 4 * 6  points (dijinn)\n",
    "# 8 * 6  points (goods)\n",
    "# 4 * 4  points (goods)\n",
    "# 6 * 8  points (Tree)\n",
    "# 5 * 5  points (Palace)\n",
    "class TileType(Enum):\n",
    "    Palace_5 = 5\n",
    "    Tree_8   = 8\n",
    "    Goods_6  = 6"
   ],
   "metadata": {
    "collapsed": false,
    "pycharm": {
     "name": "#%%\n"
    }
   }
  },
  {
   "cell_type": "code",
   "execution_count": 6,
   "outputs": [],
   "source": [
    "# Data structure for a single tile\n",
    "class Tile():\n",
    "    def __init__(self, type):\n",
    "        self.type  = type\n",
    "        self.score = type.value\n",
    "        self.tree = 0\n",
    "        self.palace = 0\n",
    "        self.owner = None\n",
    "\n",
    "    def assignTree(self, amount):\n",
    "        if self.type != TileType.Tree_8:\n",
    "            raise Exception(\"Cannot add tree to tile type: \" + self.type)\n",
    "        self.tree = amount\n",
    "\n",
    "    def assignPalace(self, amount):\n",
    "        if self.type != TileType.Palace_5:\n",
    "            raise Exception(\"Cannot add palace to tile type: \" + self.type)\n",
    "        self.tree = amount\n",
    "\n",
    "    def assignOwner(self, player_color):\n",
    "        self.owner = player_color"
   ],
   "metadata": {
    "collapsed": false,
    "pycharm": {
     "name": "#%%\n"
    }
   }
  },
  {
   "cell_type": "code",
   "execution_count": 7,
   "outputs": [],
   "source": [
    "# Init grid with Null placeholder\n",
    "def init_grid():\n",
    "    grid = []\n",
    "    for i in range(2):\n",
    "        grid.append([])\n",
    "        for j in range(2):\n",
    "            grid[i].append(None)\n",
    "    return grid"
   ],
   "metadata": {
    "collapsed": false,
    "pycharm": {
     "name": "#%%\n"
    }
   }
  },
  {
   "cell_type": "code",
   "execution_count": 8,
   "outputs": [],
   "source": [
    "grid = init_grid()\n",
    "\n",
    "grid[0][0] = Tile(TileType.Tree_8)\n",
    "grid[0][1] = Tile(TileType.Palace_5)\n",
    "grid[1][0] = Tile(TileType.Goods_6)\n",
    "grid[1][1] = Tile(TileType.Tree_8)\n",
    "\n",
    "grid[0][0].assignOwner(PlayerColor.PURPLE)\n",
    "grid[0][1].assignOwner(PlayerColor.BLACK)\n",
    "grid[1][0].assignOwner(PlayerColor.PURPLE)\n",
    "grid[0][0].assignTree(3)"
   ],
   "metadata": {
    "collapsed": false,
    "pycharm": {
     "name": "#%%\n"
    }
   }
  },
  {
   "cell_type": "code",
   "execution_count": 9,
   "outputs": [],
   "source": [
    "class Player():\n",
    "    tiles_score = 0\n",
    "    tree = 0\n",
    "    palace = 0\n",
    "    def __init__(self, color):\n",
    "        self.color = color\n",
    "    def score_grid(self, grid):\n",
    "        for i in range(len(grid)):\n",
    "            for j in range(len(grid[0])):\n",
    "                if grid[i][j] is not None:\n",
    "                    if grid[i][j].owner == self.color:\n",
    "                        self.tiles_score += grid[i][j].score\n",
    "                        self.tree += grid[i][j].tree\n",
    "                        self.palace += grid[i][j].palace"
   ],
   "metadata": {
    "collapsed": false,
    "pycharm": {
     "name": "#%%\n"
    }
   }
  },
  {
   "cell_type": "code",
   "execution_count": 10,
   "outputs": [],
   "source": [
    "# Some simple test Case\n",
    "grid = init_grid()\n",
    "\n",
    "grid[0][0] = Tile(TileType.Tree_8)\n",
    "grid[0][1] = Tile(TileType.Palace_5)\n",
    "grid[1][0] = Tile(TileType.Goods_6)\n",
    "grid[1][1] = Tile(TileType.Tree_8)\n",
    "\n",
    "grid[0][0].assignOwner(PlayerColor.PURPLE)\n",
    "grid[0][1].assignOwner(PlayerColor.BLACK)\n",
    "grid[1][0].assignOwner(PlayerColor.PURPLE)\n",
    "grid[0][0].assignTree(3)\n",
    "\n",
    "p1 = Player(PlayerColor.PURPLE)\n",
    "p1.score_grid(grid)\n",
    "\n",
    "assert p1.tiles_score == 14\n",
    "assert p1.tree == 3\n",
    "assert p1.palace == 0"
   ],
   "metadata": {
    "collapsed": false,
    "pycharm": {
     "name": "#%%\n"
    }
   }
  },
  {
   "cell_type": "code",
   "execution_count": 11,
   "outputs": [],
   "source": [
    "import json"
   ],
   "metadata": {
    "collapsed": false,
    "pycharm": {
     "name": "#%%\n"
    }
   }
  },
  {
   "cell_type": "code",
   "execution_count": 12,
   "outputs": [],
   "source": [
    "# Some basic prototype\n",
    "# Data to be written\n",
    "data = {\n",
    "    \"color\": p1.color.name,\n",
    "    \"tiles-score\": p1.tiles_score,\n",
    "    \"tree\": p1.tree,\n",
    "    \"palace\": p1.palace\n",
    "}\n",
    "\n",
    "# Serializing json\n",
    "json_object = json.dumps(data, indent=4)\n",
    "\n",
    "# Writing to file\n",
    "# with open(\"test.json\", \"w\") as outfile:\n",
    "#    outfile.write(json_object)"
   ],
   "metadata": {
    "collapsed": false,
    "pycharm": {
     "name": "#%%\n"
    }
   }
  }
 ],
 "metadata": {
  "kernelspec": {
   "display_name": "Python 3",
   "language": "python",
   "name": "python3"
  },
  "language_info": {
   "codemirror_mode": {
    "name": "ipython",
    "version": 2
   },
   "file_extension": ".py",
   "mimetype": "text/x-python",
   "name": "python",
   "nbconvert_exporter": "python",
   "pygments_lexer": "ipython2",
   "version": "2.7.6"
  }
 },
 "nbformat": 4,
 "nbformat_minor": 0
}